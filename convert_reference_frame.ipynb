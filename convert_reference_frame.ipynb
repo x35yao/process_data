{
 "cells": [
  {
   "cell_type": "code",
   "execution_count": 7,
   "id": "60e0e29d",
   "metadata": {},
   "outputs": [
    {
     "name": "stdout",
     "output_type": "stream",
     "text": [
      "./convnert_reference_frame/obj-vid-capture/HD1080_SN3404_12-48-53.svo\n",
      "Converting SVO... Use Ctrl-C to interrupt conversion.\n",
      "[------------------------------] 0.263331%\r"
     ]
    },
    {
     "name": "stderr",
     "output_type": "stream",
     "text": [
      "OpenCV: FFMPEG: tag 0x3253344d/'M4S2' is not supported with codec id 12 and format 'mp4 / MP4 (MPEG-4 Part 14)'\n",
      "OpenCV: FFMPEG: fallback to use tag 0x7634706d/'mp4v'\n",
      "OpenCV: FFMPEG: tag 0x3253344d/'M4S2' is not supported with codec id 12 and format 'mp4 / MP4 (MPEG-4 Part 14)'\n",
      "OpenCV: FFMPEG: fallback to use tag 0x7634706d/'mp4v'\n"
     ]
    },
    {
     "name": "stdout",
     "output_type": "stream",
     "text": [
      "[==============================] 100.000000%\n",
      "SVO end has been reached. Exiting now.\n",
      "The video id is HD1080_SN3404_12\n",
      "./convnert_reference_frame/obj-vid-capture/HD1080_SN3404_12-53-39.svo\n",
      "Converting SVO... Use Ctrl-C to interrupt conversion.\n",
      "[------------------------------] 0.436681%\r"
     ]
    },
    {
     "name": "stderr",
     "output_type": "stream",
     "text": [
      "OpenCV: FFMPEG: tag 0x3253344d/'M4S2' is not supported with codec id 12 and format 'mp4 / MP4 (MPEG-4 Part 14)'\n",
      "OpenCV: FFMPEG: fallback to use tag 0x7634706d/'mp4v'\n",
      "OpenCV: FFMPEG: tag 0x3253344d/'M4S2' is not supported with codec id 12 and format 'mp4 / MP4 (MPEG-4 Part 14)'\n",
      "OpenCV: FFMPEG: fallback to use tag 0x7634706d/'mp4v'\n"
     ]
    },
    {
     "name": "stdout",
     "output_type": "stream",
     "text": [
      "[==============================] 100.000000%\n",
      "SVO end has been reached. Exiting now.\n",
      "The video id is HD1080_SN3404_12\n"
     ]
    }
   ],
   "source": [
    "from pre_process import svo_to_mp4s\n",
    "import os\n",
    "\n",
    "raw_dir = './convnert_reference_frame/obj-vid-capture'\n",
    "outdir = os.path.dirname(raw_dir) + '/mp4s'\n",
    "\n",
    "fnames = os.listdir(raw_dir)\n",
    "for fname in fnames:\n",
    "    f_in = os.path.join(raw_dir, fname)\n",
    "    basename = os.path.basename(f_in).split('.')[0]\n",
    "    f_out = os.path.join(outdir, basename)\n",
    "    svo_to_mp4s(f_in, f_out)"
   ]
  },
  {
   "cell_type": "code",
   "execution_count": 51,
   "id": "4e8349ca",
   "metadata": {},
   "outputs": [
    {
     "data": {
      "text/plain": [
       "[array([   80.155112  ,  -224.66717292, -1950.91746878]),\n",
       " array([  110.52655412,  -100.38775872, -1537.62749851]),\n",
       " array([   82.20042959,   -77.47948073, -1937.4349379 ]),\n",
       " array([   71.16021718,  -227.77337819, -1513.7381101 ]),\n",
       " array([   67.53088659,     8.57623569, -1896.74864961]),\n",
       " array([   80.80238921,  -188.13961528, -1487.58542082]),\n",
       " array([   85.66217438,    32.25422317, -1859.85945048]),\n",
       " array([   79.58277204,  -251.46716129, -1854.03800991]),\n",
       " array([   61.23510165,  -236.68219143, -1557.17177478]),\n",
       " array([   68.95296888,    45.23329351, -1995.1158987 ]),\n",
       " array([   66.36188355,  -262.85735611, -1624.62535187]),\n",
       " array([   94.1782814 ,   -79.88299127, -1945.04478936]),\n",
       " array([   94.64928785,   -81.8325763 , -1949.26632595]),\n",
       " array([  106.17749486,   -77.77202383, -1445.48915293]),\n",
       " array([  112.6353123 ,    37.44666629, -2020.25182738]),\n",
       " array([   77.65823771,  -285.7851679 , -1485.76776716]),\n",
       " array([   82.20547746,  -291.08577201, -1480.62614226]),\n",
       " array([  104.27887083,  -315.60045123, -2008.69380005]),\n",
       " array([  112.3550881 ,  -326.1216473 , -2012.10641604]),\n",
       " array([  111.48905478,    25.9821303 , -1560.1105132 ])]"
      ]
     },
     "execution_count": 51,
     "metadata": {},
     "output_type": "execute_result"
    }
   ],
   "source": [
    "vid_points_transformed"
   ]
  },
  {
   "cell_type": "code",
   "execution_count": 2,
   "id": "5a25f789",
   "metadata": {},
   "outputs": [],
   "source": [
    "# ndi point pairs are obtained from the screen shots\n",
    "ndi_point_pairs = [([64.93, -206.51, -1941.51],[62.58, -66.7, -1553.78]), \n",
    "               ([68.01, -62.88, -1948.01], [61.74, -220.39, -1512.61]),\n",
    "               ([66.52, 16.06, -1910.72], [61.80, -167.61, -1494.75]),\n",
    "               ([66.01, 50.76, -1876.74], [68.44, -235.36, -1843.89]),\n",
    "               ([65.99, -235.15, -1546.93], [65.86, 55.10, -2017.27]),\n",
    "               \n",
    "              ([102.98, -302.40, -1607.55],[106.97, -103.16, -1952.37]), \n",
    "               ([112.11, -99.02, -1952.54], [113.52, -93.98, -1442.56]),\n",
    "               ([118.21, 34.94, -2037.26], [116.23, -330.72, -1467.38]),\n",
    "               ([116.80, -329.56, -1463.60], [119.30, -328.34, -1988.06]),\n",
    "               ([120.34, -328.36, -1987.97], [116.71, 19.16, -1455.13])]\n",
    "\n",
    "# vid point pairs are obtained from dlc and leastereo\n",
    "vid_point_pairs = [([201.39, -116.3, 727.0],[-213.7, 2.803, 700.71]), \n",
    "               ([183.3, 2.564, 641.01], [-235.38, -122.55, 747.23]),\n",
    "               ([139.20, 62.64, 580.00], [-262.29, -84.99, 732.64]),\n",
    "               ([102.50, 92.60, 582.39], [105.51, -137.69, 748.30]),\n",
    "               ([-192.22, -135.80, 742.13], [236.29, 92.41, 553.37]),\n",
    "               \n",
    "              ([-123.79, -153.88, 758.00],[191.56, 7.82, 651.56]), \n",
    "               ([195.86, 6.53, 652.86], [-306.62, 18.60, 689.04]),\n",
    "               ([263.77, 112.37, 591.41], [-261.12, -164.88, 788.89]),\n",
    "               ([-265.86, -166.36, 796.00], [263.17, -174.65, 797.48]),\n",
    "               ([267.31, -178.21, 810.04], [-195.27, 104.25, 624.26])]"
   ]
  },
  {
   "cell_type": "code",
   "execution_count": 11,
   "id": "f80ce86f",
   "metadata": {},
   "outputs": [
    {
     "name": "stdout",
     "output_type": "stream",
     "text": [
      "20.465475951849385\n",
      "13.358146792192201\n",
      "0.5502979812733884\n",
      "4.163651656312027\n",
      "31.794309867615652\n",
      "28.233180935902737\n",
      "6.081434205829055\n",
      "51.507303201182594\n",
      "4.629641450468398\n",
      "63.20616906602277\n"
     ]
    }
   ],
   "source": [
    "good_inds = []\n",
    "thres = 20\n",
    "for i, (ndi_pair, vid_pair) in enumerate(zip(ndi_point_pairs, vid_point_pairs)):\n",
    "#     print(np.array(ndi_pair)[1] - np.array(ndi_pair)[0])\n",
    "    ndi_norm = np.linalg.norm(np.array(ndi_pair)[0] - np.array(ndi_pair)[1], ord = 2)\n",
    "    vid_norm = np.linalg.norm(np.array(vid_pair)[0] - np.array(vid_pair)[1], ord = 2)\n",
    "    diff = abs(ndi_norm - vid_norm)\n",
    "    print(diff)\n",
    "    if diff < thres:\n",
    "        good_inds.append(i)"
   ]
  },
  {
   "cell_type": "code",
   "execution_count": 4,
   "id": "4deda295",
   "metadata": {},
   "outputs": [
    {
     "data": {
      "text/plain": [
       "[1, 2, 3, 6, 8]"
      ]
     },
     "execution_count": 4,
     "metadata": {},
     "output_type": "execute_result"
    }
   ],
   "source": [
    "good_inds"
   ]
  },
  {
   "cell_type": "code",
   "execution_count": 61,
   "id": "2b7ed28c",
   "metadata": {},
   "outputs": [
    {
     "name": "stdout",
     "output_type": "stream",
     "text": [
      "Translation is :[ -439.43387119   311.38679179 -1791.90156532]\n",
      "Rotation is: [[ 0.04891916  0.60149851  0.79737473]\n",
      " [-0.03214019  0.7988651  -0.60065095]\n",
      " [-0.99828549  0.00375556  0.05841208]]\n"
     ]
    }
   ],
   "source": [
    "from scipy.spatial.transform import Rotation as R\n",
    "import numpy as np\n",
    "\n",
    "def get_translation(ndi_pairs, vid_pairs, rot_matrix):\n",
    "    translations = []\n",
    "    for ndi, vid in zip(np.array(ndi_pairs).reshape(-1, 3), np.array(vid_pairs).reshape(-1,3)):\n",
    "        diff = ndi - rot_matrix @ vid\n",
    "        translations.append(diff)\n",
    "    translation_mean = np.array(translations).mean(axis=0)\n",
    "    return translation_mean\n",
    "\n",
    "def get_rotation(ndi_pairs, vid_pairs):\n",
    "    ndi_vecs = np.array(ndi_pairs)[:,1,:] - np.array(ndi_pairs)[:,0,:]\n",
    "    vid_vecs = np.array(vid_pairs)[:,1,:] - np.array(vid_pairs)[:,0,:]\n",
    "#     print(ndi_vecs, 'nid_vecs')\n",
    "#     print(vid_vecs, 'vid_vecs')\n",
    "    r, e = R.align_vectors(ndi_vecs, vid_vecs)\n",
    "    return r, e\n",
    "\n",
    "nid_pairs_good = [ndi_point_pairs[i] for i in good_inds]\n",
    "vid_pairs_good = [vid_point_pairs[i] for i in good_inds]\n",
    "\n",
    "r, e = get_rotation(nid_pairs_good, vid_pairs_good)\n",
    "rot_matrix = r.as_matrix()\n",
    "\n",
    "t = get_translation(nid_pairs_good, vid_pairs_good, rot_matrix)\n",
    "\n",
    "print(f'Translation is :{t}')\n",
    "print(f'Rotation is: {rot_matrix}')"
   ]
  },
  {
   "cell_type": "code",
   "execution_count": 83,
   "id": "a1265d68",
   "metadata": {},
   "outputs": [
    {
     "name": "stdout",
     "output_type": "stream",
     "text": [
      "25.494851105890174\n",
      "60.78355405785736\n",
      "22.942211488691854\n",
      "12.021954818799228\n",
      "15.881664007983948\n",
      "28.87710328236232\n",
      "31.837472985720968\n",
      "22.05865178709771\n",
      "11.395201605819041\n",
      "24.448365135514745\n",
      "56.533837475122205\n",
      "27.55187672473963\n",
      "24.71843328697723\n",
      "18.033047722043566\n",
      "18.07314180956948\n",
      "62.008305601516135\n",
      "54.46959453903129\n",
      "28.525149058575707\n",
      "25.521277793099063\n",
      "105.33141926062505\n",
      "33.82535567735184\n"
     ]
    }
   ],
   "source": [
    "dists = []\n",
    "for ndi, vid in zip(np.array(ndi_point_pairs).reshape(-1,3), np.array(vid_point_pairs).reshape(-1,3)):\n",
    "    dist = np.linalg.norm(ndi - (rot_matrix @ vid + t))\n",
    "    print(dist)\n",
    "    dists.append(dist)\n",
    "print(np.array(dists).mean())"
   ]
  },
  {
   "cell_type": "code",
   "execution_count": 66,
   "id": "3e979971",
   "metadata": {},
   "outputs": [],
   "source": [
    "from rigid_transform_3D import rigid_transform_3D"
   ]
  },
  {
   "cell_type": "code",
   "execution_count": 73,
   "id": "10ea02ea",
   "metadata": {},
   "outputs": [],
   "source": [
    "nid_pairs_good_train =  np.array(nid_pairs_good).reshape(-1, 3).T\n",
    "vid_pairs_good_train =  np.array(vid_pairs_good).reshape(-1, 3).T\n",
    "\n",
    "rot_matrix_2, t_2 = rigid_transform_3D(vid_pairs_good_train, nid_pairs_good_train)"
   ]
  },
  {
   "cell_type": "code",
   "execution_count": 88,
   "id": "b9644bee",
   "metadata": {},
   "outputs": [
    {
     "name": "stdout",
     "output_type": "stream",
     "text": [
      "33.61105618318187\n"
     ]
    }
   ],
   "source": [
    "dists_2 = []\n",
    "for ndi, vid in zip(np.array(ndi_point_pairs).reshape(-1,3), np.array(vid_point_pairs).reshape(-1,3)):\n",
    "    dist = np.linalg.norm(ndi - (rot_matrix_2 @ vid + t_2.flatten()))\n",
    "    dists_2.append(dist)\n",
    "print(np.array(dists_2).mean())"
   ]
  },
  {
   "cell_type": "code",
   "execution_count": null,
   "id": "b2e5f8ae",
   "metadata": {},
   "outputs": [],
   "source": []
  }
 ],
 "metadata": {
  "kernelspec": {
   "display_name": "Python 3",
   "language": "python",
   "name": "python3"
  },
  "language_info": {
   "codemirror_mode": {
    "name": "ipython",
    "version": 3
   },
   "file_extension": ".py",
   "mimetype": "text/x-python",
   "name": "python",
   "nbconvert_exporter": "python",
   "pygments_lexer": "ipython3",
   "version": "3.8.8"
  }
 },
 "nbformat": 4,
 "nbformat_minor": 5
}
